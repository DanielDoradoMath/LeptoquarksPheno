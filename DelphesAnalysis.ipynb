{
 "cells": [
  {
   "cell_type": "markdown",
   "id": "ed5cd2cf-379b-463f-8e2f-b6f950fdb5a6",
   "metadata": {},
   "source": [
    "# Single Leptoquark Analysis"
   ]
  },
  {
   "cell_type": "code",
   "execution_count": null,
   "id": "94d1e2d8-a6f5-448e-addf-16df035c69af",
   "metadata": {},
   "outputs": [],
   "source": [
    "import os\n",
    "import ROOT\n",
    "from ROOT import *"
   ]
  },
  {
   "cell_type": "code",
   "execution_count": null,
   "id": "67e4cf71-a8d6-41c2-ba50-6482588f8a57",
   "metadata": {},
   "outputs": [],
   "source": [
    "def getData (fullAnalysis=True):\n",
    "    \"\"\"\n",
    "    Function to read data from Delphes-generated events\n",
    "    \"\"\"\n",
    "    ev_dir = os.getcwd() + '/Events'    # Event directory path\n",
    "    \n",
    "    jobs = 1\n",
    "    if fullAnalysis:\n",
    "        root, dirs, files = os.walk(ev_dir)\n",
    "        jobs = len(dirs)\n",
    "    \n",
    "    tree = TChain('Delphes;1')\n",
    "    for i in range(jobs):\n",
    "        path = str('Events/run_{:02d}/tag_1_delphes_events.root'.format(i))\n",
    "        tree.Add(path)\n",
    "        print('Run found in ' + path)\n",
    "    print('Total events uploaded: {}'.format(tree.GetEntries()))    "
   ]
  },
  {
   "cell_type": "code",
   "execution_count": null,
   "id": "c5d2f012-5a1b-40ec-abf3-ad8296b042ed",
   "metadata": {},
   "outputs": [],
   "source": [
    "class JetVector:\n",
    "    def __init__(self, event, j):\n",
    "        self.TLV = TLorentzVector()\n",
    "        self.TLV.SetPtEtaPhiM(event.GetLeaf('Jet.PT').GetValue(j),\n",
    "                              event.GetLeaf('Jet.Eta').GetValue(j),\n",
    "                              event.GetLeaf('Jet.Phi').GetValue(j),\n",
    "                              event.GetLeaf('Jet.Mass').GetValue(j)\n",
    "                             )\n",
    "        self.BTag = event.GetLeaf('Jet.BTag').GetValue(j)\n",
    "        self.TauTag = event.GetLeaf('Jet.TauTag').GetValue(j)\n",
    "        \n",
    "    \n",
    "    ### Retrieval methods\n",
    "        \n",
    "    def GetTLV (self):    \n",
    "        return self.TLV\n",
    "    \n",
    "    def GetBTag (self):\n",
    "        return self.BTag\n",
    "    \n",
    "    def GetTauTag (self):\n",
    "        return self.TauTag"
   ]
  },
  {
   "cell_type": "code",
   "execution_count": null,
   "id": "96db6dbd-729f-4aa2-a015-b835e69eb202",
   "metadata": {},
   "outputs": [],
   "source": [
    "def PT(jet):\n",
    "    # Returns jet transverse momentum\n",
    "    TLV = jet.GetTLV()\n",
    "    return TLV.Pt()\n",
    "\n",
    "\n",
    "def Eta(jet):\n",
    "    # Returns jet pseudorapidity\n",
    "    TLV = jet.GetTLV()\n",
    "    return TLV.Eta()\n",
    "\n",
    "\n",
    "def getGoodJets(event):\n",
    "    \"\"\"\n",
    "    Separate jet types into a map structure.\n",
    "    \"\"\"\n",
    "    jetTypes = {'jets' : [],\n",
    "                'b_jets' : [],\n",
    "                'tau_jets' : [],\n",
    "                'all_jets' : [],\n",
    "                'other_jets' : []\n",
    "               }\n",
    "    \n",
    "    n_jets = event.Jet.GetEntries()\n",
    "    \n",
    "    for j in range(n_jets):\n",
    "        jet = JetVector(event, j)\n",
    "        \n",
    "        if PT(jet)<= 20.:\n",
    "            continue\n",
    "        \n",
    "        jetTypes['all_jets'] += [jet]\n",
    "        if (jet.GetBTag() == 0 and jet.GetBTag() == 0):\n",
    "            if PT(jet)>30.:\n",
    "                jetTypes['jets'] += [jet]\n",
    "                \n",
    "        elif (jet.GetBTag() == 1 and jet.GetBTag() == 0):\n",
    "            if (PT(jet)>30.) and abs(Eta(jet))<2.5:\n",
    "                jetTypes['b_jets'] += [jet]\n",
    "        \n",
    "        elif (jet.GetBTag() == 0 and jet.GetBTag() == 1):\n",
    "            if abs(Eta(jet))<2.5:\n",
    "                jetTypes['tau_jets'] += [jet]\n",
    "        else:\n",
    "            jetTypes['other_jets'] += [jet]\n",
    "            \n",
    "    for key in jetTypes:\n",
    "        jetTypes[key].sort(reverse = True, key = PT)\n",
    "        \n",
    "    return jetTypes"
   ]
  }
 ],
 "metadata": {
  "kernelspec": {
   "display_name": "Python 3 (ipykernel)",
   "language": "python",
   "name": "python3"
  },
  "language_info": {
   "codemirror_mode": {
    "name": "ipython",
    "version": 3
   },
   "file_extension": ".py",
   "mimetype": "text/x-python",
   "name": "python",
   "nbconvert_exporter": "python",
   "pygments_lexer": "ipython3",
   "version": "3.8.11"
  }
 },
 "nbformat": 4,
 "nbformat_minor": 5
}
